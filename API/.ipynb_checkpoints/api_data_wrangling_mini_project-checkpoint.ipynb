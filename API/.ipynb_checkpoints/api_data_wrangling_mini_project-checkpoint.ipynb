{
 "cells": [
  {
   "cell_type": "markdown",
   "metadata": {},
   "source": [
    "This exercise will require you to pull some data from the Qunadl API. Qaundl is currently the most widely used aggregator of financial market data."
   ]
  },
  {
   "cell_type": "markdown",
   "metadata": {},
   "source": [
    "As a first step, you will need to register a free account on the http://www.quandl.com website."
   ]
  },
  {
   "cell_type": "markdown",
   "metadata": {},
   "source": [
    "After you register, you will be provided with a unique API key, that you should store:"
   ]
  },
  {
   "cell_type": "code",
   "execution_count": 4,
   "metadata": {},
   "outputs": [],
   "source": [
    "# Store the API key as a string - according to PEP8, constants are always named in all upper case\n",
    "API_KEY = '2zmAGAcomRuVxHMzssWh'"
   ]
  },
  {
   "cell_type": "markdown",
   "metadata": {},
   "source": [
    "Qaundl has a large number of data sources, but, unfortunately, most of them require a Premium subscription. Still, there are also a good number of free datasets."
   ]
  },
  {
   "cell_type": "markdown",
   "metadata": {},
   "source": [
    "For this mini project, we will focus on equities data from the Frankfurt Stock Exhange (FSE), which is available for free. We'll try and analyze the stock prices of a company called Carl Zeiss Meditec, which manufactures tools for eye examinations, as well as medical lasers for laser eye surgery: https://www.zeiss.com/meditec/int/home.html. The company is listed under the stock ticker AFX_X."
   ]
  },
  {
   "cell_type": "markdown",
   "metadata": {},
   "source": [
    "You can find the detailed Quandl API instructions here: https://docs.quandl.com/docs/time-series"
   ]
  },
  {
   "cell_type": "markdown",
   "metadata": {},
   "source": [
    "While there is a dedicated Python package for connecting to the Quandl API, we would prefer that you use the *requests* package, which can be easily downloaded using *pip* or *conda*. You can find the documentation for the package here: http://docs.python-requests.org/en/master/ "
   ]
  },
  {
   "cell_type": "markdown",
   "metadata": {},
   "source": [
    "Finally, apart from the *requests* package, you are encouraged to not use any third party Python packages, such as *pandas*, and instead focus on what's available in the Python Standard Library (the *collections* module might come in handy: https://pymotw.com/3/collections/ ).\n",
    "Also, since you won't have access to DataFrames, you are encouraged to us Python's native data structures - preferably dictionaries, though some questions can also be answered using lists.\n",
    "You can read more on these data structures here: https://docs.python.org/3/tutorial/datastructures.html"
   ]
  },
  {
   "cell_type": "markdown",
   "metadata": {},
   "source": [
    "Keep in mind that the JSON responses you will be getting from the API map almost one-to-one to Python's dictionaries. Unfortunately, they can be very nested, so make sure you read up on indexing dictionaries in the documentation provided above."
   ]
  },
  {
   "cell_type": "code",
   "execution_count": 5,
   "metadata": {},
   "outputs": [],
   "source": [
    "# First, import the relevant modules\n",
    "import collections\n",
    "import requests"
   ]
  },
  {
   "cell_type": "code",
   "execution_count": 6,
   "metadata": {},
   "outputs": [
    {
     "data": {
      "text/plain": [
       "{'dataset': {'id': 9775687,\n",
       "  'dataset_code': 'FB',\n",
       "  'database_code': 'WIKI',\n",
       "  'name': 'Facebook Inc. (FB) Prices, Dividends, Splits and Trading Volume',\n",
       "  'description': \"End of day open, high, low, close and volume, dividends and splits, and split/dividend adjusted open, high, low close and volume for Facebook, Inc. (FB). Ex-Dividend is non-zero on ex-dividend dates. Split Ratio is 1 on non-split dates. Adjusted prices are calculated per CRSP (www.crsp.com/products/documentation/crsp-calculations)\\n\\nThis data is in the public domain. You may copy, distribute, disseminate or include the data in other products for commercial and/or noncommercial purposes.\\n\\nThis data is part of Quandl's Wiki initiative to get financial data permanently into the public domain. Quandl relies on users like you to flag errors and provide data where data is wrong or missing. Get involved: connect@quandl.com\\n\",\n",
       "  'refreshed_at': '2018-03-27T21:46:11.036Z',\n",
       "  'newest_available_date': '2018-03-27',\n",
       "  'oldest_available_date': '2012-05-18',\n",
       "  'column_names': ['Date',\n",
       "   'Open',\n",
       "   'High',\n",
       "   'Low',\n",
       "   'Close',\n",
       "   'Volume',\n",
       "   'Ex-Dividend',\n",
       "   'Split Ratio',\n",
       "   'Adj. Open',\n",
       "   'Adj. High',\n",
       "   'Adj. Low',\n",
       "   'Adj. Close',\n",
       "   'Adj. Volume'],\n",
       "  'frequency': 'daily',\n",
       "  'type': 'Time Series',\n",
       "  'premium': False,\n",
       "  'limit': None,\n",
       "  'transform': None,\n",
       "  'column_index': None,\n",
       "  'start_date': '2017-07-07',\n",
       "  'end_date': '2017-07-07',\n",
       "  'data': [['2017-07-07',\n",
       "    149.25,\n",
       "    151.99,\n",
       "    149.19,\n",
       "    151.44,\n",
       "    13229352.0,\n",
       "    0.0,\n",
       "    1.0,\n",
       "    149.25,\n",
       "    151.99,\n",
       "    149.19,\n",
       "    151.44,\n",
       "    13229352.0]],\n",
       "  'collapse': None,\n",
       "  'order': None,\n",
       "  'database_id': 4922}}"
      ]
     },
     "execution_count": 6,
     "metadata": {},
     "output_type": "execute_result"
    }
   ],
   "source": [
    "# Now, call the Quandl API and pull out a small sample of the data (only one day) to get a glimpse\n",
    "# into the JSON structure that will be returned\n",
    "data = requests.get('https://www.quandl.com/api/v3/datasets/WIKI/FB.json?start_date=2017-07-07&end_date=2017-07-07&api_key={}'.format(API_KEY))\n",
    "dic = data.json()\n",
    "dic\n"
   ]
  },
  {
   "cell_type": "code",
   "execution_count": 7,
   "metadata": {},
   "outputs": [],
   "source": [
    "# Inspect the JSON structure of the object you created, and take note of how nested it is,\n",
    "# as well as the overall structure\n"
   ]
  },
  {
   "cell_type": "markdown",
   "metadata": {},
   "source": [
    "These are your tasks for this mini project:\n",
    "\n",
    "1. Collect data from the Franfurt Stock Exchange, for the ticker AFX_X, for the whole year 2017 (keep in mind that the date format is YYYY-MM-DD).\n",
    "2. Convert the returned JSON object into a Python dictionary.\n",
    "3. Calculate what the highest and lowest opening prices were for the stock in this period.\n",
    "4. What was the largest change in any one day (based on High and Low price)?\n",
    "5. What was the largest change between any two days (based on Closing Price)?\n",
    "6. What was the average daily trading volume during this year?\n",
    "7. (Optional) What was the median trading volume during this year. (Note: you may need to implement your own function for calculating the median.)"
   ]
  },
  {
   "cell_type": "code",
   "execution_count": 8,
   "metadata": {},
   "outputs": [],
   "source": [
    "# Collect data and convert into python dictionary\n",
    "data = requests.get('https://www.quandl.com/api/v3/datasets/FSE/AFX_X?start_date=2017-01-01&end_date=2017-12-31&api_key={}'.format(API_KEY))\n",
    "dic = data.json()\n",
    "dataset = dic['dataset']\n"
   ]
  },
  {
   "cell_type": "code",
   "execution_count": 22,
   "metadata": {},
   "outputs": [
    {
     "name": "stdout",
     "output_type": "stream",
     "text": [
      "highest opening: 53.11 \n",
      "lowest opening: 34.0\n"
     ]
    }
   ],
   "source": [
    "# Calculate what the highest and lowest opening prices were for the stock in this period.\n",
    "\n",
    "open_ind = dataset['column_names'].index('Open')\n",
    "hi, lo = 0, float('inf')\n",
    "for d in dataset['data']:\n",
    "    if isinstance(d[open_ind], float):\n",
    "        if d[open_ind] > hi:\n",
    "            hi = d[open_ind]\n",
    "        if d[open_ind] < lo:\n",
    "            lo = d[open_ind]\n",
    "print('highest opening: {} \\nlowest opening: {}'.format(hi, lo))"
   ]
  },
  {
   "cell_type": "code",
   "execution_count": 23,
   "metadata": {},
   "outputs": [
    {
     "name": "stdout",
     "output_type": "stream",
     "text": [
      "largest change is: 2.8100000000000023\n"
     ]
    }
   ],
   "source": [
    "# What was the largest change in any one day (based on High and Low price)?\n",
    "\n",
    "hi_ind, low_ind = dataset['column_names'].index('High'), dataset['column_names'].index('Low')\n",
    "diff = 0\n",
    "for d in dataset['data']:\n",
    "    dif = d[hi_ind] - d[low_ind]\n",
    "    if dif > diff:\n",
    "        diff = dif\n",
    "print('largest change is: {}'.format(diff))"
   ]
  },
  {
   "cell_type": "code",
   "execution_count": 30,
   "metadata": {},
   "outputs": [
    {
     "name": "stdout",
     "output_type": "stream",
     "text": [
      "largest change between any two consecutive days:  2.559999999999995\n",
      "largest change between any two days in whole year:  19.03\n"
     ]
    }
   ],
   "source": [
    "# What was the largest change between any two days (based on Closing Price)?\n",
    "# First Interpretation: assuming two consecutive days\n",
    "clo_ind = dataset['column_names'].index('Close')\n",
    "change = 0\n",
    "for i in range(1, len(dataset['data'])):\n",
    "    x = dataset['data'][i][clo_ind] - dataset['data'][i-1][clo_ind]\n",
    "    if abs(x) > abs(change):\n",
    "        change = x\n",
    "print('largest change between any two consecutive days: ', change)\n",
    "\n",
    "# Second Interpretaiton: assuming any two days in whole year\n",
    "highest_close = 0\n",
    "lowest_close = float('inf')\n",
    "for i in range(1, len(dataset['data'])):\n",
    "    cur_close = dataset['data'][i][clo_ind]\n",
    "    if cur_close > highest_close:\n",
    "        highest_close = cur_close\n",
    "    elif cur_close < lowest_close:\n",
    "        lowest_close = cur_close\n",
    "change = highest_close-lowest_close\n",
    "print('largest change between any two days in whole year: ', change)\n",
    "\n",
    "# closing_prices = [x[4] for x in dataset['data']]\n",
    "# valid_closing_values = list(filter(lambda x:isinstance(x, float), closing_prices))\n",
    "# highest_closing = max(valid_closing_values)\n",
    "# lowest_closing = min(valid_closing_values)\n",
    "# largest_change = highest_closing - lowest_closing\n",
    "# print(f\"validating my answer: {largest_change}\")"
   ]
  },
  {
   "cell_type": "code",
   "execution_count": 25,
   "metadata": {},
   "outputs": [
    {
     "name": "stdout",
     "output_type": "stream",
     "text": [
      "average daily trading volumn is:  89124.33725490196\n"
     ]
    }
   ],
   "source": [
    "# What was the average daily trading volume during this year?\n",
    "\n",
    "tv_ind = dataset['column_names'].index('Traded Volume')\n",
    "arr = []\n",
    "for d in dataset['data']:\n",
    "    arr.append(d[tv_ind])\n",
    "print('average daily trading volumn is: ', sum(arr)/len(arr))"
   ]
  },
  {
   "cell_type": "code",
   "execution_count": 26,
   "metadata": {},
   "outputs": [
    {
     "name": "stdout",
     "output_type": "stream",
     "text": [
      "median trading volumn is:  76286.0\n"
     ]
    }
   ],
   "source": [
    "import heapq\n",
    "# What was the median trading volume during this year. (Note: you may need to implement your own function for calculating the median.)\n",
    "\n",
    "tv_ind = dataset['column_names'].index('Traded Volume')\n",
    "arr = []\n",
    "for d in dataset['data']:\n",
    "    arr.append(d[tv_ind])\n",
    "heapq.heapify(arr)\n",
    "ind = len(dataset['data'])//2+1 if len(dataset['data'])%2 else len(dataset['data'])//2\n",
    "for i in range(ind):\n",
    "    median = heapq.heappop(arr)\n",
    "print('median trading volumn is: ', median)"
   ]
  },
  {
   "cell_type": "code",
   "execution_count": null,
   "metadata": {},
   "outputs": [],
   "source": []
  },
  {
   "cell_type": "code",
   "execution_count": null,
   "metadata": {},
   "outputs": [],
   "source": []
  },
  {
   "cell_type": "code",
   "execution_count": null,
   "metadata": {},
   "outputs": [],
   "source": []
  }
 ],
 "metadata": {
  "kernelspec": {
   "display_name": "Python 3",
   "language": "python",
   "name": "python3"
  },
  "language_info": {
   "codemirror_mode": {
    "name": "ipython",
    "version": 3
   },
   "file_extension": ".py",
   "mimetype": "text/x-python",
   "name": "python",
   "nbconvert_exporter": "python",
   "pygments_lexer": "ipython3",
   "version": "3.8.1"
  }
 },
 "nbformat": 4,
 "nbformat_minor": 2
}
